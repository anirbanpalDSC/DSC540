{
 "cells": [
  {
   "cell_type": "markdown",
   "metadata": {},
   "source": [
    "<font color='blue'>Setup a local database with Python and load in a dataset (can be any dataset). You can choose what back-end to use, if you have never done this before, the book recommends SQLite and to follow along with the book, you can find that at: [SQLite](https://www.sqlite.org/download.html).\n",
    "\n",
    "* Create a Python dictionary of the data.\n",
    "* Create a new table.\n",
    "* Insert the data into that table.</font>\n",
    "    "
   ]
  },
  {
   "cell_type": "markdown",
   "metadata": {},
   "source": [
    "For this task, I am using `sqlite` as the database. As a pre-requisite, I have created a database called `data_wrangling` in `sqlite`. I would be creating table in this database and insert data in the tables.\n",
    "\n",
    "The data file used is the [Age adjusted leading causes of death in the USA](https://catalog.data.gov/dataset/age-adjusted-death-rates-for-the-top-10-leading-causes-of-death-united-states-2013). For the purpose of this excercise, I have taken following colums:\n",
    "\n",
    "* Rank _Added new__\n",
    "* Year\n",
    "* Cause _Renamed `Casuse Name` column_\n",
    "* State\n",
    "* Deaths\n",
    "\n",
    "The dataset has been adjusted in the following way:\n",
    "\n",
    "* Filtered for year `2016` only\n",
    "* Filtered out `All Causes` from cause\n",
    "* Filtered out `United States` from State\n",
    "* Sorted by `Deaths` decreasingly\n",
    "* Took top 10 rows"
   ]
  },
  {
   "cell_type": "code",
   "execution_count": 1,
   "metadata": {},
   "outputs": [
    {
     "name": "stdout",
     "output_type": "stream",
     "text": [
      "<dataset.util.ResultIter object at 0x065D5E30>\n"
     ]
    }
   ],
   "source": [
    "import dataset\n",
    "import csv\n",
    "from json import loads, dumps\n",
    "from collections import OrderedDict\n",
    "\n",
    "# Define database name\n",
    "dbName = 'sqlite:///data_wrangling.db'\n",
    "\n",
    "# Define table name\n",
    "tblName = 'Deaths'\n",
    "\n",
    "# Define data file\n",
    "fileName = '../Data/NCHS.csv'\n",
    "\n",
    "# Define file encoding\n",
    "enc = 'utf-8-sig'\n",
    "\n",
    "# Connect to database (Create connection object)\n",
    "db = dataset.connect(dbName)\n",
    "\n",
    "# Create table\n",
    "table = db[tblName]\n",
    "\n",
    "def read_csv(fileName, enc):\n",
    "    # Read the csv dataset as a dictionary\n",
    "    reader = csv.DictReader(open(fileName, 'rt', encoding = enc))\n",
    "    \n",
    "    dictData = []\n",
    "    for row in reader:\n",
    "        dictData.append(row)\n",
    "    \n",
    "    finData = to_dict(dictData)\n",
    "    \n",
    "    return finData\n",
    "\n",
    "def to_dict(in_ordered_dict):\n",
    "    # Since csv DictReader returns a list of orderedDicts, convert them to real dictionary\n",
    "    return loads(dumps(in_ordered_dict))\n",
    "\n",
    "# Read CSV data in dictionary\n",
    "finData = read_csv(fileName, enc)\n",
    "\n",
    "# Insert data into table\n",
    "for row in finData:\n",
    "    table.insert(row)\n",
    "    \n",
    "# Check table\n",
    "sources = db[tblName].all()\n",
    "print(sources)"
   ]
  },
  {
   "cell_type": "code",
   "execution_count": 2,
   "metadata": {},
   "outputs": [
    {
     "data": {
      "text/plain": [
       "OrderedDict([('id', 3),\n",
       "             ('Rank', '3'),\n",
       "             ('Year', '2016'),\n",
       "             ('Cause', 'Heart disease'),\n",
       "             ('State', 'Florida'),\n",
       "             ('Deaths', '45659')])"
      ]
     },
     "execution_count": 2,
     "metadata": {},
     "output_type": "execute_result"
    }
   ],
   "source": [
    "table.find_one(Rank = 3)"
   ]
  },
  {
   "cell_type": "code",
   "execution_count": null,
   "metadata": {},
   "outputs": [],
   "source": []
  }
 ],
 "metadata": {
  "kernelspec": {
   "display_name": "Python 3",
   "language": "python",
   "name": "python3"
  },
  "language_info": {
   "codemirror_mode": {
    "name": "ipython",
    "version": 3
   },
   "file_extension": ".py",
   "mimetype": "text/x-python",
   "name": "python",
   "nbconvert_exporter": "python",
   "pygments_lexer": "ipython3",
   "version": "3.6.4"
  }
 },
 "nbformat": 4,
 "nbformat_minor": 2
}
