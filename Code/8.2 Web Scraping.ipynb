{
 "cells": [
  {
   "cell_type": "markdown",
   "metadata": {},
   "source": [
    "Connect to the Internet using Python Library urllib (Data Wrangling with Python? pg 298-300), follow the example in the book to connect to the same website or a different website and submit your code."
   ]
  },
  {
   "cell_type": "code",
   "execution_count": null,
   "metadata": {},
   "outputs": [],
   "source": [
    "import urllib.request as ulib\n",
    "from bs4 import BeautifulSoup\n",
    "\n",
    "# Get the latest ratio of gold to USD by scraping information from https://goldprice.org/\n",
    "req = ulib.Request('https://goldprice.org/', headers={\"User-Agent\": \"Mozilla/5.0 (X11; Linux x86_64) AppleWebKit/537.36 (KHTML, like Gecko) Chrome/50.0.2661.75 Safari/537.36\",\"X-Requested-With\": \"XMLHttpRequest\"})\n",
    "page = ulib.urlopen(req)\n",
    "bs = BeautifulSoup(page,\"html.parser\")\n",
    "\n",
    "print(bs)"
   ]
  },
  {
   "cell_type": "code",
   "execution_count": null,
   "metadata": {},
   "outputs": [],
   "source": [
    "google = ulib.urlopen('http://google.com')\n",
    "google = google.read()\n",
    "\n",
    "# Search in google\n",
    "url = 'http://google.com?q='\n",
    "url_with_query = url + ulib.pathname2url('python web scraping')\n",
    "\n",
    "web_search = ulib.urlopen(url_with_query)\n",
    "web_search = web_search.read()\n",
    "bs = BeautifulSoup(web_search,\"html.parser\")\n",
    "print(bs)"
   ]
  },
  {
   "cell_type": "markdown",
   "metadata": {},
   "source": [
    "Reading a Web Page with Beautiful Soup – following the example starting on page 300-304 of Data Wrangling with Python, use the Beautiful Soup Python library to scrap a web page. The result should be data and output in an organized format. Each of the data entries should be in its own dictionary with matching keys."
   ]
  },
  {
   "cell_type": "code",
   "execution_count": null,
   "metadata": {},
   "outputs": [],
   "source": [
    "import requests\n",
    "\n",
    "pages = []\n",
    "\n",
    "for i in range(1, 10):\n",
    "    url = 'https://rspo.org/members/' + str(i)\n",
    "    pages.append(url)\n",
    "\n",
    "for item in pages:\n",
    "    page = requests.get(item)\n",
    "    soup = BeautifulSoup(page.text, 'html.parser')\n",
    "    member = soup.find_all(\"span\", {\"class\":\"current\"})\n",
    "    \n",
    "print(pages)"
   ]
  },
  {
   "cell_type": "markdown",
   "metadata": {},
   "source": [
    "Web scraping with Selenium - Follow along with your book starting on page 318-329 of Data Wrangling with Python. At the end of the exercise, you should be able to go to a site, fill out a form, submit the form, and then scroll through the results with the code you wrote. Make sure to submit the code and your output."
   ]
  },
  {
   "cell_type": "code",
   "execution_count": null,
   "metadata": {},
   "outputs": [],
   "source": [
    "from selenium import webdriver\n",
    "from time import sleep\n",
    "\n",
    "# Get driver for corresponding browser (geckodriver in this case)\n",
    "browser = webdriver.Firefox()\n",
    "\n",
    "# Get google.com\n",
    "browser.get('http://google.com')\n",
    "\n",
    "inputs = browser.find_elements_by_css_selector('form input')\n",
    "for i in inputs:\n",
    "    if i.is_displayed():\n",
    "        search_bar = i\n",
    "        break\n",
    "\n",
    "    # Search string\n",
    "    search_bar.send_keys('web scraping with python')\n",
    "\n",
    "    search_button = browser.find_element_by_css_selector('form button')\n",
    "    search_button.click()\n",
    "\n",
    "    browser.implicitly_wait(10)\n",
    "    results = browser.find_elements_by_css_selector('div h3 a')\n",
    "\n",
    "    for r in results:\n",
    "        action = webdriver.ActionChains(browser)\n",
    "        action.move_to_element(r)\n",
    "        action.perform()\n",
    "        sleep(2)\n",
    "\n",
    "browser.quit()"
   ]
  }
 ],
 "metadata": {
  "kernelspec": {
   "display_name": "Python 3",
   "language": "python",
   "name": "python3"
  },
  "language_info": {
   "codemirror_mode": {
    "name": "ipython",
    "version": 3
   },
   "file_extension": ".py",
   "mimetype": "text/x-python",
   "name": "python",
   "nbconvert_exporter": "python",
   "pygments_lexer": "ipython3",
   "version": "3.6.4"
  }
 },
 "nbformat": 4,
 "nbformat_minor": 2
}
