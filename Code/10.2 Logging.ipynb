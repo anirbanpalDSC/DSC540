{
 "cells": [
  {
   "cell_type": "markdown",
   "metadata": {},
   "source": [
    "1. Add Python logging to previous code that you have written. In your logging, include a note to yourself with the area of the code writing the message so you know where the error occurred. Include your code and output in your submitted assignment. An example of this can be found on page 406-408 of your text, Data Wrangling with Python.\n",
    "\n",
    "\n",
    "2. Add an automated message to previous code that you have written. You can choose to do an email, text or call. Make sure to include the failure/success in your message. Include your code and output in your submitted assignment. An example of this can be found on page 408-412 of your text Data Wrangling with Python."
   ]
  },
  {
   "cell_type": "markdown",
   "metadata": {},
   "source": [
    "1. Create a log file using the Twitter single data pull code done in week 9. Save the log file with timestamp. The log file should capture the type of activity happening in the code (Error, Exception, Debug)"
   ]
  },
  {
   "cell_type": "code",
   "execution_count": 11,
   "metadata": {},
   "outputs": [],
   "source": [
    "# Single Data Pull\n",
    "\n",
    "# Import required packages\n",
    "import oauth2\n",
    "import json\n",
    "import tweepy\n",
    "import dataset\n",
    "import logging\n",
    "import configparser\n",
    "from datetime import datetime\n",
    "from twilio.rest import TwilioRestClient\n",
    "\n",
    "# Assign application specific keys \n",
    "# (keys would be made invalid after submission of the assignment, for security)\n",
    "API_KEY = '4h98hWVnIH6c2zGOKlCCzb5IR'\n",
    "API_SECRET = 'TDzXnkPc4PZcnMcmPTsYQQDfgy1sqq3QVJfgEwnwNLAYk2qgs6'\n",
    "TOKEN_KEY = '1093345412604444678-Uj3aLVG5ZdLKisBAHf0vs4uK83tQU2'\n",
    "TOKEN_SECRET = 'mMjZAZvVMzTkGPmaJXBz9RJRvWhxYjzlnGtuvO10cuoqZ'\n",
    "\n",
    "# Create search string\n",
    "url = 'https://api.twitter.com/1.1/search/tweets.json?q=%23childlabor'\n",
    "\n",
    "# Define logging\n",
    "def start_logger():\n",
    "    logging.basicConfig(filename='../Twitter_log_%s.log' %\n",
    "                        datetime.strftime(datetime.now(), '%m%d%Y_%H%M%S'),\n",
    "                        level=logging.DEBUG,\n",
    "                        format='%(asctime)s %(message)s',\n",
    "                        datefmt='%m-%d %H:%M:%S')\n",
    "\n",
    "# Create the oauth object to connect with the Twitter API using proper credential\n",
    "def oauth_req(url, token, secret, http_method='GET', post_body='', http_headers=None):\n",
    "    consumer = oauth2.Consumer(key=API_KEY, secret=API_SECRET)\n",
    "    token = oauth2.Token(key=token, secret=secret)\n",
    "    client = oauth2.Client(consumer, token)\n",
    "    resp, content = client.request( url, \n",
    "                                   method=http_method, \n",
    "                                   body=bytes(post_body, 'utf-8'), \n",
    "                                   headers=http_headers )\n",
    "    return content\n",
    "\n",
    "# Define module to send text\n",
    "def send_text(sender, recipient, text_message, config=None):\n",
    "    if not config:\n",
    "        config = configparser.ConfigParser('../config.cfg')\n",
    "\n",
    "    client = TwilioRestClient(config.get('twilio', 'account_sid'),\n",
    "                              config.get('twilio', 'auth_token'))\n",
    "    sms = client.sms.messages.create(body=text_message,\n",
    "                                      to=recipient,\n",
    "                                      from_=sender)\n",
    "    \n",
    "def example():\n",
    "    send_text(\"+14027397220\", \"+14027397220\", \"test\") \n",
    "    \n",
    "# Define the main function to store log in the event of error, exception and debug\n",
    "def main():\n",
    "    start_logger()\n",
    "    logging.debug(\"SCRIPT: Try to pull Twitter data.\")\n",
    "\n",
    "    try:\n",
    "        # Send request to Twitter API with search string and keys\n",
    "        data = oauth_req(url, TOKEN_KEY, TOKEN_SECRET)\n",
    "    except Exception:\n",
    "        logging.exception('SCRIPT: Exception while getting data.')\n",
    "        logging.error('SCRIPT: Erorr while getting data.')\n",
    "\n",
    "    logging.debug('SCRIPT: Logging complete.')\n",
    "\n",
    "if __name__ == '__main__':\n",
    "    main()"
   ]
  },
  {
   "cell_type": "code",
   "execution_count": 16,
   "metadata": {},
   "outputs": [
    {
     "ename": "ImportError",
     "evalue": "cannot import name 'account_sid'",
     "output_type": "error",
     "traceback": [
      "\u001b[1;31m---------------------------------------------------------------------------\u001b[0m",
      "\u001b[1;31mImportError\u001b[0m                               Traceback (most recent call last)",
      "\u001b[1;32m<ipython-input-16-e0585a73774f>\u001b[0m in \u001b[0;36m<module>\u001b[1;34m()\u001b[0m\n\u001b[0;32m      1\u001b[0m \u001b[1;32mfrom\u001b[0m \u001b[0mtwilio\u001b[0m\u001b[1;33m.\u001b[0m\u001b[0mrest\u001b[0m \u001b[1;32mimport\u001b[0m \u001b[0mTwilioRestClient\u001b[0m\u001b[1;33m\u001b[0m\u001b[0m\n\u001b[1;32m----> 2\u001b[1;33m \u001b[1;32mfrom\u001b[0m \u001b[0mcredentials\u001b[0m \u001b[1;32mimport\u001b[0m \u001b[0maccount_sid\u001b[0m\u001b[1;33m,\u001b[0m \u001b[0mauth_token\u001b[0m\u001b[1;33m,\u001b[0m \u001b[0mmy_cell\u001b[0m\u001b[1;33m,\u001b[0m \u001b[0mmy_twilio\u001b[0m\u001b[1;33m\u001b[0m\u001b[0m\n\u001b[0m\u001b[0;32m      3\u001b[0m \u001b[1;33m\u001b[0m\u001b[0m\n\u001b[0;32m      4\u001b[0m \u001b[1;33m\u001b[0m\u001b[0m\n\u001b[0;32m      5\u001b[0m \u001b[1;31m# Find these values at https://twilio.com/user/account\u001b[0m\u001b[1;33m\u001b[0m\u001b[1;33m\u001b[0m\u001b[0m\n",
      "\u001b[1;31mImportError\u001b[0m: cannot import name 'account_sid'"
     ]
    }
   ],
   "source": [
    "from twilio.rest import TwilioRestClient\n",
    "from credentials import account_sid, auth_token, my_cell, my_twilio\n",
    "\n",
    "\n",
    "# Find these values at https://twilio.com/user/account\n",
    "\n",
    "\n",
    "\n",
    "client = TwilioRestClient(account_sid, auth_token)\n",
    "\n",
    "my_msg = \"Your message goes here...\"\n",
    "\n",
    "message = client.messages.create(to=my_cell, from_=my_twilio,\n",
    "\n",
    "                                     body=my_msg)"
   ]
  },
  {
   "cell_type": "code",
   "execution_count": null,
   "metadata": {},
   "outputs": [],
   "source": []
  }
 ],
 "metadata": {
  "kernelspec": {
   "display_name": "Python 3",
   "language": "python",
   "name": "python3"
  }
 },
 "nbformat": 4,
 "nbformat_minor": 2
}
